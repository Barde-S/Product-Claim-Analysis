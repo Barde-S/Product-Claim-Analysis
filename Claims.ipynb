{
  "nbformat": 4,
  "nbformat_minor": 0,
  "metadata": {
    "colab": {
      "provenance": []
    },
    "kernelspec": {
      "name": "python3",
      "display_name": "Python 3"
    },
    "language_info": {
      "name": "python"
    }
  },
  "cells": [
    {
      "cell_type": "code",
      "execution_count": null,
      "metadata": {
        "id": "JsAdYp7ZXG6K"
      },
      "outputs": [],
      "source": [
        "# Import required libraries\n",
        "import pandas as pd\n",
        "import numpy as np\n",
        "import matplotlib.pyplot as plt\n",
        "import seaborn as sns"
      ]
    },
    {
      "cell_type": "code",
      "source": [
        "# Read the Dataset\n",
        "df = pd.read_csv('/content/claims.csv')"
      ],
      "metadata": {
        "id": "XioKNm2EDGqP"
      },
      "execution_count": null,
      "outputs": []
    },
    {
      "cell_type": "code",
      "source": [
        "# Let's take a look at some few columns of the dataset\n",
        "df.head()"
      ],
      "metadata": {
        "colab": {
          "base_uri": "https://localhost:8080/",
          "height": 206
        },
        "id": "Z-lL9bd1YRo3",
        "outputId": "d887d04e-3c23-440b-cf44-7da81a743271"
      },
      "execution_count": null,
      "outputs": [
        {
          "output_type": "execute_result",
          "data": {
            "text/plain": [
              "                    Claim ID  Time to Close  Claim Amount  Amount Paid  \\\n",
              "0  0000000-00.2010.0.00.0094           2082   R$50,000.00     34297.47   \n",
              "1  0000000-00.2011.0.00.0086           3591  R$180,000.00     56383.54   \n",
              "2  0000000-00.2012.0.00.0092           2997   R$70,000.00     12366.76   \n",
              "3  0000000-00.2013.0.00.0096           1143   R$95,104.00     29217.16   \n",
              "4  0000000-00.2014.0.00.0097            117   R$29,000.00     12610.50   \n",
              "\n",
              "    Location  Individuals on Claim  Linked Cases       Cause  \n",
              "0     RECIFE                     2         False         NaN  \n",
              "1   SAO LUIS                     7         False         NaN  \n",
              "2   SAO LUIS                     3         False  vegetables  \n",
              "3  FORTALEZA                     4         False         NaN  \n",
              "4  FORTALEZA                     1         False        meat  "
            ],
            "text/html": [
              "\n",
              "  <div id=\"df-7df36a7f-3d12-471f-83e7-cb66c0b4467c\">\n",
              "    <div class=\"colab-df-container\">\n",
              "      <div>\n",
              "<style scoped>\n",
              "    .dataframe tbody tr th:only-of-type {\n",
              "        vertical-align: middle;\n",
              "    }\n",
              "\n",
              "    .dataframe tbody tr th {\n",
              "        vertical-align: top;\n",
              "    }\n",
              "\n",
              "    .dataframe thead th {\n",
              "        text-align: right;\n",
              "    }\n",
              "</style>\n",
              "<table border=\"1\" class=\"dataframe\">\n",
              "  <thead>\n",
              "    <tr style=\"text-align: right;\">\n",
              "      <th></th>\n",
              "      <th>Claim ID</th>\n",
              "      <th>Time to Close</th>\n",
              "      <th>Claim Amount</th>\n",
              "      <th>Amount Paid</th>\n",
              "      <th>Location</th>\n",
              "      <th>Individuals on Claim</th>\n",
              "      <th>Linked Cases</th>\n",
              "      <th>Cause</th>\n",
              "    </tr>\n",
              "  </thead>\n",
              "  <tbody>\n",
              "    <tr>\n",
              "      <th>0</th>\n",
              "      <td>0000000-00.2010.0.00.0094</td>\n",
              "      <td>2082</td>\n",
              "      <td>R$50,000.00</td>\n",
              "      <td>34297.47</td>\n",
              "      <td>RECIFE</td>\n",
              "      <td>2</td>\n",
              "      <td>False</td>\n",
              "      <td>NaN</td>\n",
              "    </tr>\n",
              "    <tr>\n",
              "      <th>1</th>\n",
              "      <td>0000000-00.2011.0.00.0086</td>\n",
              "      <td>3591</td>\n",
              "      <td>R$180,000.00</td>\n",
              "      <td>56383.54</td>\n",
              "      <td>SAO LUIS</td>\n",
              "      <td>7</td>\n",
              "      <td>False</td>\n",
              "      <td>NaN</td>\n",
              "    </tr>\n",
              "    <tr>\n",
              "      <th>2</th>\n",
              "      <td>0000000-00.2012.0.00.0092</td>\n",
              "      <td>2997</td>\n",
              "      <td>R$70,000.00</td>\n",
              "      <td>12366.76</td>\n",
              "      <td>SAO LUIS</td>\n",
              "      <td>3</td>\n",
              "      <td>False</td>\n",
              "      <td>vegetables</td>\n",
              "    </tr>\n",
              "    <tr>\n",
              "      <th>3</th>\n",
              "      <td>0000000-00.2013.0.00.0096</td>\n",
              "      <td>1143</td>\n",
              "      <td>R$95,104.00</td>\n",
              "      <td>29217.16</td>\n",
              "      <td>FORTALEZA</td>\n",
              "      <td>4</td>\n",
              "      <td>False</td>\n",
              "      <td>NaN</td>\n",
              "    </tr>\n",
              "    <tr>\n",
              "      <th>4</th>\n",
              "      <td>0000000-00.2014.0.00.0097</td>\n",
              "      <td>117</td>\n",
              "      <td>R$29,000.00</td>\n",
              "      <td>12610.50</td>\n",
              "      <td>FORTALEZA</td>\n",
              "      <td>1</td>\n",
              "      <td>False</td>\n",
              "      <td>meat</td>\n",
              "    </tr>\n",
              "  </tbody>\n",
              "</table>\n",
              "</div>\n",
              "      <button class=\"colab-df-convert\" onclick=\"convertToInteractive('df-7df36a7f-3d12-471f-83e7-cb66c0b4467c')\"\n",
              "              title=\"Convert this dataframe to an interactive table.\"\n",
              "              style=\"display:none;\">\n",
              "        \n",
              "  <svg xmlns=\"http://www.w3.org/2000/svg\" height=\"24px\"viewBox=\"0 0 24 24\"\n",
              "       width=\"24px\">\n",
              "    <path d=\"M0 0h24v24H0V0z\" fill=\"none\"/>\n",
              "    <path d=\"M18.56 5.44l.94 2.06.94-2.06 2.06-.94-2.06-.94-.94-2.06-.94 2.06-2.06.94zm-11 1L8.5 8.5l.94-2.06 2.06-.94-2.06-.94L8.5 2.5l-.94 2.06-2.06.94zm10 10l.94 2.06.94-2.06 2.06-.94-2.06-.94-.94-2.06-.94 2.06-2.06.94z\"/><path d=\"M17.41 7.96l-1.37-1.37c-.4-.4-.92-.59-1.43-.59-.52 0-1.04.2-1.43.59L10.3 9.45l-7.72 7.72c-.78.78-.78 2.05 0 2.83L4 21.41c.39.39.9.59 1.41.59.51 0 1.02-.2 1.41-.59l7.78-7.78 2.81-2.81c.8-.78.8-2.07 0-2.86zM5.41 20L4 18.59l7.72-7.72 1.47 1.35L5.41 20z\"/>\n",
              "  </svg>\n",
              "      </button>\n",
              "      \n",
              "  <style>\n",
              "    .colab-df-container {\n",
              "      display:flex;\n",
              "      flex-wrap:wrap;\n",
              "      gap: 12px;\n",
              "    }\n",
              "\n",
              "    .colab-df-convert {\n",
              "      background-color: #E8F0FE;\n",
              "      border: none;\n",
              "      border-radius: 50%;\n",
              "      cursor: pointer;\n",
              "      display: none;\n",
              "      fill: #1967D2;\n",
              "      height: 32px;\n",
              "      padding: 0 0 0 0;\n",
              "      width: 32px;\n",
              "    }\n",
              "\n",
              "    .colab-df-convert:hover {\n",
              "      background-color: #E2EBFA;\n",
              "      box-shadow: 0px 1px 2px rgba(60, 64, 67, 0.3), 0px 1px 3px 1px rgba(60, 64, 67, 0.15);\n",
              "      fill: #174EA6;\n",
              "    }\n",
              "\n",
              "    [theme=dark] .colab-df-convert {\n",
              "      background-color: #3B4455;\n",
              "      fill: #D2E3FC;\n",
              "    }\n",
              "\n",
              "    [theme=dark] .colab-df-convert:hover {\n",
              "      background-color: #434B5C;\n",
              "      box-shadow: 0px 1px 3px 1px rgba(0, 0, 0, 0.15);\n",
              "      filter: drop-shadow(0px 1px 2px rgba(0, 0, 0, 0.3));\n",
              "      fill: #FFFFFF;\n",
              "    }\n",
              "  </style>\n",
              "\n",
              "      <script>\n",
              "        const buttonEl =\n",
              "          document.querySelector('#df-7df36a7f-3d12-471f-83e7-cb66c0b4467c button.colab-df-convert');\n",
              "        buttonEl.style.display =\n",
              "          google.colab.kernel.accessAllowed ? 'block' : 'none';\n",
              "\n",
              "        async function convertToInteractive(key) {\n",
              "          const element = document.querySelector('#df-7df36a7f-3d12-471f-83e7-cb66c0b4467c');\n",
              "          const dataTable =\n",
              "            await google.colab.kernel.invokeFunction('convertToInteractive',\n",
              "                                                     [key], {});\n",
              "          if (!dataTable) return;\n",
              "\n",
              "          const docLinkHtml = 'Like what you see? Visit the ' +\n",
              "            '<a target=\"_blank\" href=https://colab.research.google.com/notebooks/data_table.ipynb>data table notebook</a>'\n",
              "            + ' to learn more about interactive tables.';\n",
              "          element.innerHTML = '';\n",
              "          dataTable['output_type'] = 'display_data';\n",
              "          await google.colab.output.renderOutput(dataTable, element);\n",
              "          const docLink = document.createElement('div');\n",
              "          docLink.innerHTML = docLinkHtml;\n",
              "          element.appendChild(docLink);\n",
              "        }\n",
              "      </script>\n",
              "    </div>\n",
              "  </div>\n",
              "  "
            ]
          },
          "metadata": {},
          "execution_count": 37
        }
      ]
    },
    {
      "cell_type": "markdown",
      "source": [
        "Dataset Summary"
      ],
      "metadata": {
        "id": "l2y2d_Zf4RNX"
      }
    },
    {
      "cell_type": "markdown",
      "source": [
        "## Data Validation"
      ],
      "metadata": {
        "id": "s6hcJzrwPtct"
      }
    },
    {
      "cell_type": "code",
      "source": [
        "# For more convinience I decided to adjust the names of the columns\n",
        "df = df.rename(columns={'Claim ID': 'claim_id', 'Time to Close': 'time_to_close', 'Claim Amount': 'claim_amount', 'Amount Paid':'amount_paid', 'Location':'location',\n",
        "       'Individuals on Claim':'individuals_on_claim', 'Linked Cases':'linked_cases', 'Cause':'cause'})"
      ],
      "metadata": {
        "id": "e-IO9c5FDuvH"
      },
      "execution_count": null,
      "outputs": []
    },
    {
      "cell_type": "code",
      "source": [
        "# What are the data type of the columns\n",
        "df.info()"
      ],
      "metadata": {
        "colab": {
          "base_uri": "https://localhost:8080/"
        },
        "id": "M5_LalWQ5IBO",
        "outputId": "08223f99-f786-4bcf-fb54-07ff7023c607"
      },
      "execution_count": null,
      "outputs": [
        {
          "output_type": "stream",
          "name": "stdout",
          "text": [
            "<class 'pandas.core.frame.DataFrame'>\n",
            "RangeIndex: 98 entries, 0 to 97\n",
            "Data columns (total 8 columns):\n",
            " #   Column                Non-Null Count  Dtype  \n",
            "---  ------                --------------  -----  \n",
            " 0   claim_id              98 non-null     object \n",
            " 1   time_to_close         98 non-null     int64  \n",
            " 2   claim_amount          98 non-null     object \n",
            " 3   amount_paid           98 non-null     float64\n",
            " 4   location              98 non-null     object \n",
            " 5   individuals_on_claim  98 non-null     int64  \n",
            " 6   linked_cases          98 non-null     bool   \n",
            " 7   cause                 20 non-null     object \n",
            "dtypes: bool(1), float64(1), int64(2), object(4)\n",
            "memory usage: 5.6+ KB\n"
          ]
        }
      ]
    },
    {
      "cell_type": "code",
      "source": [
        "# Print all the column names\n",
        "df.columns.unique()"
      ],
      "metadata": {
        "colab": {
          "base_uri": "https://localhost:8080/"
        },
        "id": "MOpZ3J9eE-BB",
        "outputId": "b9cb75b7-a678-4cfa-ec25-0eebf931204b"
      },
      "execution_count": null,
      "outputs": [
        {
          "output_type": "execute_result",
          "data": {
            "text/plain": [
              "Index(['claim_id', 'time_to_close', 'claim_amount', 'amount_paid', 'location',\n",
              "       'individuals_on_claim', 'linked_cases', 'cause'],\n",
              "      dtype='object')"
            ]
          },
          "metadata": {},
          "execution_count": 40
        }
      ]
    },
    {
      "cell_type": "code",
      "source": [
        "# Correct the claim amount columns to the numeric as per criteria\n",
        "df['claim_amount'] = df['claim_amount'].str.replace('$', '')\n",
        "df['claim_amount'] = df['claim_amount'].str.replace(',', '')\n",
        "df['claim_amount'] = df['claim_amount'].str.strip('R')\n",
        "df['claim_amount'] = df['claim_amount'].astype('float')"
      ],
      "metadata": {
        "colab": {
          "base_uri": "https://localhost:8080/"
        },
        "id": "WtzZMddaMbbf",
        "outputId": "a3eb0f68-9584-4a56-da92-e06c883dd5cd"
      },
      "execution_count": null,
      "outputs": [
        {
          "output_type": "stream",
          "name": "stderr",
          "text": [
            "<ipython-input-41-7ebe04e2a4de>:2: FutureWarning: The default value of regex will change from True to False in a future version. In addition, single character regular expressions will *not* be treated as literal strings when regex=True.\n",
            "  df['claim_amount'] = df['claim_amount'].str.replace('$', '')\n"
          ]
        }
      ]
    },
    {
      "cell_type": "code",
      "source": [
        "# Fill the null row with 'unknown' in the cause column\n",
        "df['cause'] = df['cause'].fillna('unknown')"
      ],
      "metadata": {
        "id": "-EHOF5aRMbng"
      },
      "execution_count": null,
      "outputs": []
    },
    {
      "cell_type": "code",
      "source": [
        "# check for the minimum value\n",
        "df.time_to_close.min()"
      ],
      "metadata": {
        "colab": {
          "base_uri": "https://localhost:8080/"
        },
        "id": "ctiAf4eIFWST",
        "outputId": "311d6579-b86c-4410-95d3-0e08cdc38cad"
      },
      "execution_count": null,
      "outputs": [
        {
          "output_type": "execute_result",
          "data": {
            "text/plain": [
              "-57"
            ]
          },
          "metadata": {},
          "execution_count": 43
        }
      ]
    },
    {
      "cell_type": "code",
      "source": [
        "# what row has negative value of time to close case?\n",
        "df[df.time_to_close<0]"
      ],
      "metadata": {
        "colab": {
          "base_uri": "https://localhost:8080/",
          "height": 81
        },
        "id": "P2UXA268GD_M",
        "outputId": "96f0ff21-7f77-40af-ec8f-efcdaa6a5cbc"
      },
      "execution_count": null,
      "outputs": [
        {
          "output_type": "execute_result",
          "data": {
            "text/plain": [
              "                     claim_id  time_to_close  claim_amount  amount_paid  \\\n",
              "58  0000000-00.2019.0.00.0079            -57        3672.0       999.68   \n",
              "\n",
              "    location  individuals_on_claim  linked_cases    cause  \n",
              "58  SAO LUIS                     0         False  unknown  "
            ],
            "text/html": [
              "\n",
              "  <div id=\"df-82c86523-b0cb-4717-bdfe-bff4aabdfb2a\">\n",
              "    <div class=\"colab-df-container\">\n",
              "      <div>\n",
              "<style scoped>\n",
              "    .dataframe tbody tr th:only-of-type {\n",
              "        vertical-align: middle;\n",
              "    }\n",
              "\n",
              "    .dataframe tbody tr th {\n",
              "        vertical-align: top;\n",
              "    }\n",
              "\n",
              "    .dataframe thead th {\n",
              "        text-align: right;\n",
              "    }\n",
              "</style>\n",
              "<table border=\"1\" class=\"dataframe\">\n",
              "  <thead>\n",
              "    <tr style=\"text-align: right;\">\n",
              "      <th></th>\n",
              "      <th>claim_id</th>\n",
              "      <th>time_to_close</th>\n",
              "      <th>claim_amount</th>\n",
              "      <th>amount_paid</th>\n",
              "      <th>location</th>\n",
              "      <th>individuals_on_claim</th>\n",
              "      <th>linked_cases</th>\n",
              "      <th>cause</th>\n",
              "    </tr>\n",
              "  </thead>\n",
              "  <tbody>\n",
              "    <tr>\n",
              "      <th>58</th>\n",
              "      <td>0000000-00.2019.0.00.0079</td>\n",
              "      <td>-57</td>\n",
              "      <td>3672.0</td>\n",
              "      <td>999.68</td>\n",
              "      <td>SAO LUIS</td>\n",
              "      <td>0</td>\n",
              "      <td>False</td>\n",
              "      <td>unknown</td>\n",
              "    </tr>\n",
              "  </tbody>\n",
              "</table>\n",
              "</div>\n",
              "      <button class=\"colab-df-convert\" onclick=\"convertToInteractive('df-82c86523-b0cb-4717-bdfe-bff4aabdfb2a')\"\n",
              "              title=\"Convert this dataframe to an interactive table.\"\n",
              "              style=\"display:none;\">\n",
              "        \n",
              "  <svg xmlns=\"http://www.w3.org/2000/svg\" height=\"24px\"viewBox=\"0 0 24 24\"\n",
              "       width=\"24px\">\n",
              "    <path d=\"M0 0h24v24H0V0z\" fill=\"none\"/>\n",
              "    <path d=\"M18.56 5.44l.94 2.06.94-2.06 2.06-.94-2.06-.94-.94-2.06-.94 2.06-2.06.94zm-11 1L8.5 8.5l.94-2.06 2.06-.94-2.06-.94L8.5 2.5l-.94 2.06-2.06.94zm10 10l.94 2.06.94-2.06 2.06-.94-2.06-.94-.94-2.06-.94 2.06-2.06.94z\"/><path d=\"M17.41 7.96l-1.37-1.37c-.4-.4-.92-.59-1.43-.59-.52 0-1.04.2-1.43.59L10.3 9.45l-7.72 7.72c-.78.78-.78 2.05 0 2.83L4 21.41c.39.39.9.59 1.41.59.51 0 1.02-.2 1.41-.59l7.78-7.78 2.81-2.81c.8-.78.8-2.07 0-2.86zM5.41 20L4 18.59l7.72-7.72 1.47 1.35L5.41 20z\"/>\n",
              "  </svg>\n",
              "      </button>\n",
              "      \n",
              "  <style>\n",
              "    .colab-df-container {\n",
              "      display:flex;\n",
              "      flex-wrap:wrap;\n",
              "      gap: 12px;\n",
              "    }\n",
              "\n",
              "    .colab-df-convert {\n",
              "      background-color: #E8F0FE;\n",
              "      border: none;\n",
              "      border-radius: 50%;\n",
              "      cursor: pointer;\n",
              "      display: none;\n",
              "      fill: #1967D2;\n",
              "      height: 32px;\n",
              "      padding: 0 0 0 0;\n",
              "      width: 32px;\n",
              "    }\n",
              "\n",
              "    .colab-df-convert:hover {\n",
              "      background-color: #E2EBFA;\n",
              "      box-shadow: 0px 1px 2px rgba(60, 64, 67, 0.3), 0px 1px 3px 1px rgba(60, 64, 67, 0.15);\n",
              "      fill: #174EA6;\n",
              "    }\n",
              "\n",
              "    [theme=dark] .colab-df-convert {\n",
              "      background-color: #3B4455;\n",
              "      fill: #D2E3FC;\n",
              "    }\n",
              "\n",
              "    [theme=dark] .colab-df-convert:hover {\n",
              "      background-color: #434B5C;\n",
              "      box-shadow: 0px 1px 3px 1px rgba(0, 0, 0, 0.15);\n",
              "      filter: drop-shadow(0px 1px 2px rgba(0, 0, 0, 0.3));\n",
              "      fill: #FFFFFF;\n",
              "    }\n",
              "  </style>\n",
              "\n",
              "      <script>\n",
              "        const buttonEl =\n",
              "          document.querySelector('#df-82c86523-b0cb-4717-bdfe-bff4aabdfb2a button.colab-df-convert');\n",
              "        buttonEl.style.display =\n",
              "          google.colab.kernel.accessAllowed ? 'block' : 'none';\n",
              "\n",
              "        async function convertToInteractive(key) {\n",
              "          const element = document.querySelector('#df-82c86523-b0cb-4717-bdfe-bff4aabdfb2a');\n",
              "          const dataTable =\n",
              "            await google.colab.kernel.invokeFunction('convertToInteractive',\n",
              "                                                     [key], {});\n",
              "          if (!dataTable) return;\n",
              "\n",
              "          const docLinkHtml = 'Like what you see? Visit the ' +\n",
              "            '<a target=\"_blank\" href=https://colab.research.google.com/notebooks/data_table.ipynb>data table notebook</a>'\n",
              "            + ' to learn more about interactive tables.';\n",
              "          element.innerHTML = '';\n",
              "          dataTable['output_type'] = 'display_data';\n",
              "          await google.colab.output.renderOutput(dataTable, element);\n",
              "          const docLink = document.createElement('div');\n",
              "          docLink.innerHTML = docLinkHtml;\n",
              "          element.appendChild(docLink);\n",
              "        }\n",
              "      </script>\n",
              "    </div>\n",
              "  </div>\n",
              "  "
            ]
          },
          "metadata": {},
          "execution_count": 44
        }
      ]
    },
    {
      "cell_type": "markdown",
      "source": [],
      "metadata": {
        "id": "trvWZxky3vNV"
      }
    },
    {
      "cell_type": "code",
      "source": [
        "# Change the negative value to positive\n",
        "df['time_to_cloae'] = df['time_to_close'].iloc[[58]] = 57"
      ],
      "metadata": {
        "colab": {
          "base_uri": "https://localhost:8080/"
        },
        "id": "GIpAAH_-ECjY",
        "outputId": "7f2ed123-c301-4bdd-9b34-5fbc762c693d"
      },
      "execution_count": null,
      "outputs": [
        {
          "output_type": "stream",
          "name": "stderr",
          "text": [
            "/usr/local/lib/python3.8/dist-packages/pandas/core/indexing.py:1732: SettingWithCopyWarning: \n",
            "A value is trying to be set on a copy of a slice from a DataFrame\n",
            "\n",
            "See the caveats in the documentation: https://pandas.pydata.org/pandas-docs/stable/user_guide/indexing.html#returning-a-view-versus-a-copy\n",
            "  self._setitem_single_block(indexer, value, name)\n"
          ]
        }
      ]
    },
    {
      "cell_type": "code",
      "source": [
        "df[df.time_to_close<0]"
      ],
      "metadata": {
        "colab": {
          "base_uri": "https://localhost:8080/",
          "height": 50
        },
        "id": "Cnw4JoS4Ny80",
        "outputId": "85602bc9-6885-4cb4-aaeb-424ea28391d7"
      },
      "execution_count": null,
      "outputs": [
        {
          "output_type": "execute_result",
          "data": {
            "text/plain": [
              "Empty DataFrame\n",
              "Columns: [claim_id, time_to_close, claim_amount, amount_paid, location, individuals_on_claim, linked_cases, cause, time_to_cloae]\n",
              "Index: []"
            ],
            "text/html": [
              "\n",
              "  <div id=\"df-e555dcb0-c603-48ad-ba81-1806bf3e7f63\">\n",
              "    <div class=\"colab-df-container\">\n",
              "      <div>\n",
              "<style scoped>\n",
              "    .dataframe tbody tr th:only-of-type {\n",
              "        vertical-align: middle;\n",
              "    }\n",
              "\n",
              "    .dataframe tbody tr th {\n",
              "        vertical-align: top;\n",
              "    }\n",
              "\n",
              "    .dataframe thead th {\n",
              "        text-align: right;\n",
              "    }\n",
              "</style>\n",
              "<table border=\"1\" class=\"dataframe\">\n",
              "  <thead>\n",
              "    <tr style=\"text-align: right;\">\n",
              "      <th></th>\n",
              "      <th>claim_id</th>\n",
              "      <th>time_to_close</th>\n",
              "      <th>claim_amount</th>\n",
              "      <th>amount_paid</th>\n",
              "      <th>location</th>\n",
              "      <th>individuals_on_claim</th>\n",
              "      <th>linked_cases</th>\n",
              "      <th>cause</th>\n",
              "      <th>time_to_cloae</th>\n",
              "    </tr>\n",
              "  </thead>\n",
              "  <tbody>\n",
              "  </tbody>\n",
              "</table>\n",
              "</div>\n",
              "      <button class=\"colab-df-convert\" onclick=\"convertToInteractive('df-e555dcb0-c603-48ad-ba81-1806bf3e7f63')\"\n",
              "              title=\"Convert this dataframe to an interactive table.\"\n",
              "              style=\"display:none;\">\n",
              "        \n",
              "  <svg xmlns=\"http://www.w3.org/2000/svg\" height=\"24px\"viewBox=\"0 0 24 24\"\n",
              "       width=\"24px\">\n",
              "    <path d=\"M0 0h24v24H0V0z\" fill=\"none\"/>\n",
              "    <path d=\"M18.56 5.44l.94 2.06.94-2.06 2.06-.94-2.06-.94-.94-2.06-.94 2.06-2.06.94zm-11 1L8.5 8.5l.94-2.06 2.06-.94-2.06-.94L8.5 2.5l-.94 2.06-2.06.94zm10 10l.94 2.06.94-2.06 2.06-.94-2.06-.94-.94-2.06-.94 2.06-2.06.94z\"/><path d=\"M17.41 7.96l-1.37-1.37c-.4-.4-.92-.59-1.43-.59-.52 0-1.04.2-1.43.59L10.3 9.45l-7.72 7.72c-.78.78-.78 2.05 0 2.83L4 21.41c.39.39.9.59 1.41.59.51 0 1.02-.2 1.41-.59l7.78-7.78 2.81-2.81c.8-.78.8-2.07 0-2.86zM5.41 20L4 18.59l7.72-7.72 1.47 1.35L5.41 20z\"/>\n",
              "  </svg>\n",
              "      </button>\n",
              "      \n",
              "  <style>\n",
              "    .colab-df-container {\n",
              "      display:flex;\n",
              "      flex-wrap:wrap;\n",
              "      gap: 12px;\n",
              "    }\n",
              "\n",
              "    .colab-df-convert {\n",
              "      background-color: #E8F0FE;\n",
              "      border: none;\n",
              "      border-radius: 50%;\n",
              "      cursor: pointer;\n",
              "      display: none;\n",
              "      fill: #1967D2;\n",
              "      height: 32px;\n",
              "      padding: 0 0 0 0;\n",
              "      width: 32px;\n",
              "    }\n",
              "\n",
              "    .colab-df-convert:hover {\n",
              "      background-color: #E2EBFA;\n",
              "      box-shadow: 0px 1px 2px rgba(60, 64, 67, 0.3), 0px 1px 3px 1px rgba(60, 64, 67, 0.15);\n",
              "      fill: #174EA6;\n",
              "    }\n",
              "\n",
              "    [theme=dark] .colab-df-convert {\n",
              "      background-color: #3B4455;\n",
              "      fill: #D2E3FC;\n",
              "    }\n",
              "\n",
              "    [theme=dark] .colab-df-convert:hover {\n",
              "      background-color: #434B5C;\n",
              "      box-shadow: 0px 1px 3px 1px rgba(0, 0, 0, 0.15);\n",
              "      filter: drop-shadow(0px 1px 2px rgba(0, 0, 0, 0.3));\n",
              "      fill: #FFFFFF;\n",
              "    }\n",
              "  </style>\n",
              "\n",
              "      <script>\n",
              "        const buttonEl =\n",
              "          document.querySelector('#df-e555dcb0-c603-48ad-ba81-1806bf3e7f63 button.colab-df-convert');\n",
              "        buttonEl.style.display =\n",
              "          google.colab.kernel.accessAllowed ? 'block' : 'none';\n",
              "\n",
              "        async function convertToInteractive(key) {\n",
              "          const element = document.querySelector('#df-e555dcb0-c603-48ad-ba81-1806bf3e7f63');\n",
              "          const dataTable =\n",
              "            await google.colab.kernel.invokeFunction('convertToInteractive',\n",
              "                                                     [key], {});\n",
              "          if (!dataTable) return;\n",
              "\n",
              "          const docLinkHtml = 'Like what you see? Visit the ' +\n",
              "            '<a target=\"_blank\" href=https://colab.research.google.com/notebooks/data_table.ipynb>data table notebook</a>'\n",
              "            + ' to learn more about interactive tables.';\n",
              "          element.innerHTML = '';\n",
              "          dataTable['output_type'] = 'display_data';\n",
              "          await google.colab.output.renderOutput(dataTable, element);\n",
              "          const docLink = document.createElement('div');\n",
              "          docLink.innerHTML = docLinkHtml;\n",
              "          element.appendChild(docLink);\n",
              "        }\n",
              "      </script>\n",
              "    </div>\n",
              "  </div>\n",
              "  "
            ]
          },
          "metadata": {},
          "execution_count": 46
        }
      ]
    },
    {
      "cell_type": "code",
      "source": [
        "# what is the minimum value\n",
        "df.claim_amount.min()"
      ],
      "metadata": {
        "colab": {
          "base_uri": "https://localhost:8080/"
        },
        "id": "hGku3i7YFcTr",
        "outputId": "ad4762b0-d874-4c57-a39d-e30f1169973a"
      },
      "execution_count": null,
      "outputs": [
        {
          "output_type": "execute_result",
          "data": {
            "text/plain": [
              "3555.0"
            ]
          },
          "metadata": {},
          "execution_count": 47
        }
      ]
    },
    {
      "cell_type": "code",
      "source": [
        "# check for the minimum value\n",
        "df.amount_paid.min()"
      ],
      "metadata": {
        "colab": {
          "base_uri": "https://localhost:8080/"
        },
        "id": "MRjhD6f9FiVb",
        "outputId": "38acb443-b1db-4ec3-bb13-45d6a0e91a56"
      },
      "execution_count": null,
      "outputs": [
        {
          "output_type": "execute_result",
          "data": {
            "text/plain": [
              "999.68"
            ]
          },
          "metadata": {},
          "execution_count": 48
        }
      ]
    },
    {
      "cell_type": "code",
      "source": [
        "# what is the smallest value?\n",
        "df.individuals_on_claim.min()"
      ],
      "metadata": {
        "colab": {
          "base_uri": "https://localhost:8080/"
        },
        "id": "O-6604hmFmdp",
        "outputId": "fa24c4c4-fc49-44c0-cdba-e1e466916bfd"
      },
      "execution_count": null,
      "outputs": [
        {
          "output_type": "execute_result",
          "data": {
            "text/plain": [
              "0"
            ]
          },
          "metadata": {},
          "execution_count": 49
        }
      ]
    },
    {
      "cell_type": "code",
      "source": [
        "# Take a look at first few columns again\n",
        "df.iloc[51:60]"
      ],
      "metadata": {
        "colab": {
          "base_uri": "https://localhost:8080/",
          "height": 332
        },
        "id": "QqqVWksTMbsC",
        "outputId": "1421af27-0ad5-498a-b2d2-6a053b6140a9"
      },
      "execution_count": null,
      "outputs": [
        {
          "output_type": "execute_result",
          "data": {
            "text/plain": [
              "                     claim_id  time_to_close  claim_amount  amount_paid  \\\n",
              "51  0000000-00.2019.0.00.0065            675       75000.0     35291.54   \n",
              "52  0000000-00.2019.0.00.0052            638       37464.0     15860.55   \n",
              "53  0000000-00.2019.0.00.0001            659       10428.0      1722.04   \n",
              "54  0000000-00.2019.0.00.0060            642      363746.0    177379.01   \n",
              "55  0000000-00.2019.0.00.0047            625      136367.0     67176.37   \n",
              "56  0000000-00.2019.0.00.0054            584       38000.0     25864.34   \n",
              "57  0000000-00.2019.0.00.0078            495        6691.0      4154.22   \n",
              "58  0000000-00.2019.0.00.0079             57        3672.0       999.68   \n",
              "59  0000000-00.2019.0.00.0009            634      754317.0    145843.76   \n",
              "\n",
              "     location  individuals_on_claim  linked_cases       cause  time_to_cloae  \n",
              "51     RECIFE                     3         False  vegetables             57  \n",
              "52  FORTALEZA                     1         False     unknown             57  \n",
              "53     RECIFE                     0         False     unknown             57  \n",
              "54      NATAL                    15          True     unknown             57  \n",
              "55   SAO LUIS                     5         False  vegetables             57  \n",
              "56  FORTALEZA                     1         False     unknown             57  \n",
              "57  FORTALEZA                     0         False     unknown             57  \n",
              "58   SAO LUIS                     0         False     unknown             57  \n",
              "59      NATAL                    33          True        meat             57  "
            ],
            "text/html": [
              "\n",
              "  <div id=\"df-f88673ba-a061-4de2-bae1-65468323cbbc\">\n",
              "    <div class=\"colab-df-container\">\n",
              "      <div>\n",
              "<style scoped>\n",
              "    .dataframe tbody tr th:only-of-type {\n",
              "        vertical-align: middle;\n",
              "    }\n",
              "\n",
              "    .dataframe tbody tr th {\n",
              "        vertical-align: top;\n",
              "    }\n",
              "\n",
              "    .dataframe thead th {\n",
              "        text-align: right;\n",
              "    }\n",
              "</style>\n",
              "<table border=\"1\" class=\"dataframe\">\n",
              "  <thead>\n",
              "    <tr style=\"text-align: right;\">\n",
              "      <th></th>\n",
              "      <th>claim_id</th>\n",
              "      <th>time_to_close</th>\n",
              "      <th>claim_amount</th>\n",
              "      <th>amount_paid</th>\n",
              "      <th>location</th>\n",
              "      <th>individuals_on_claim</th>\n",
              "      <th>linked_cases</th>\n",
              "      <th>cause</th>\n",
              "      <th>time_to_cloae</th>\n",
              "    </tr>\n",
              "  </thead>\n",
              "  <tbody>\n",
              "    <tr>\n",
              "      <th>51</th>\n",
              "      <td>0000000-00.2019.0.00.0065</td>\n",
              "      <td>675</td>\n",
              "      <td>75000.0</td>\n",
              "      <td>35291.54</td>\n",
              "      <td>RECIFE</td>\n",
              "      <td>3</td>\n",
              "      <td>False</td>\n",
              "      <td>vegetables</td>\n",
              "      <td>57</td>\n",
              "    </tr>\n",
              "    <tr>\n",
              "      <th>52</th>\n",
              "      <td>0000000-00.2019.0.00.0052</td>\n",
              "      <td>638</td>\n",
              "      <td>37464.0</td>\n",
              "      <td>15860.55</td>\n",
              "      <td>FORTALEZA</td>\n",
              "      <td>1</td>\n",
              "      <td>False</td>\n",
              "      <td>unknown</td>\n",
              "      <td>57</td>\n",
              "    </tr>\n",
              "    <tr>\n",
              "      <th>53</th>\n",
              "      <td>0000000-00.2019.0.00.0001</td>\n",
              "      <td>659</td>\n",
              "      <td>10428.0</td>\n",
              "      <td>1722.04</td>\n",
              "      <td>RECIFE</td>\n",
              "      <td>0</td>\n",
              "      <td>False</td>\n",
              "      <td>unknown</td>\n",
              "      <td>57</td>\n",
              "    </tr>\n",
              "    <tr>\n",
              "      <th>54</th>\n",
              "      <td>0000000-00.2019.0.00.0060</td>\n",
              "      <td>642</td>\n",
              "      <td>363746.0</td>\n",
              "      <td>177379.01</td>\n",
              "      <td>NATAL</td>\n",
              "      <td>15</td>\n",
              "      <td>True</td>\n",
              "      <td>unknown</td>\n",
              "      <td>57</td>\n",
              "    </tr>\n",
              "    <tr>\n",
              "      <th>55</th>\n",
              "      <td>0000000-00.2019.0.00.0047</td>\n",
              "      <td>625</td>\n",
              "      <td>136367.0</td>\n",
              "      <td>67176.37</td>\n",
              "      <td>SAO LUIS</td>\n",
              "      <td>5</td>\n",
              "      <td>False</td>\n",
              "      <td>vegetables</td>\n",
              "      <td>57</td>\n",
              "    </tr>\n",
              "    <tr>\n",
              "      <th>56</th>\n",
              "      <td>0000000-00.2019.0.00.0054</td>\n",
              "      <td>584</td>\n",
              "      <td>38000.0</td>\n",
              "      <td>25864.34</td>\n",
              "      <td>FORTALEZA</td>\n",
              "      <td>1</td>\n",
              "      <td>False</td>\n",
              "      <td>unknown</td>\n",
              "      <td>57</td>\n",
              "    </tr>\n",
              "    <tr>\n",
              "      <th>57</th>\n",
              "      <td>0000000-00.2019.0.00.0078</td>\n",
              "      <td>495</td>\n",
              "      <td>6691.0</td>\n",
              "      <td>4154.22</td>\n",
              "      <td>FORTALEZA</td>\n",
              "      <td>0</td>\n",
              "      <td>False</td>\n",
              "      <td>unknown</td>\n",
              "      <td>57</td>\n",
              "    </tr>\n",
              "    <tr>\n",
              "      <th>58</th>\n",
              "      <td>0000000-00.2019.0.00.0079</td>\n",
              "      <td>57</td>\n",
              "      <td>3672.0</td>\n",
              "      <td>999.68</td>\n",
              "      <td>SAO LUIS</td>\n",
              "      <td>0</td>\n",
              "      <td>False</td>\n",
              "      <td>unknown</td>\n",
              "      <td>57</td>\n",
              "    </tr>\n",
              "    <tr>\n",
              "      <th>59</th>\n",
              "      <td>0000000-00.2019.0.00.0009</td>\n",
              "      <td>634</td>\n",
              "      <td>754317.0</td>\n",
              "      <td>145843.76</td>\n",
              "      <td>NATAL</td>\n",
              "      <td>33</td>\n",
              "      <td>True</td>\n",
              "      <td>meat</td>\n",
              "      <td>57</td>\n",
              "    </tr>\n",
              "  </tbody>\n",
              "</table>\n",
              "</div>\n",
              "      <button class=\"colab-df-convert\" onclick=\"convertToInteractive('df-f88673ba-a061-4de2-bae1-65468323cbbc')\"\n",
              "              title=\"Convert this dataframe to an interactive table.\"\n",
              "              style=\"display:none;\">\n",
              "        \n",
              "  <svg xmlns=\"http://www.w3.org/2000/svg\" height=\"24px\"viewBox=\"0 0 24 24\"\n",
              "       width=\"24px\">\n",
              "    <path d=\"M0 0h24v24H0V0z\" fill=\"none\"/>\n",
              "    <path d=\"M18.56 5.44l.94 2.06.94-2.06 2.06-.94-2.06-.94-.94-2.06-.94 2.06-2.06.94zm-11 1L8.5 8.5l.94-2.06 2.06-.94-2.06-.94L8.5 2.5l-.94 2.06-2.06.94zm10 10l.94 2.06.94-2.06 2.06-.94-2.06-.94-.94-2.06-.94 2.06-2.06.94z\"/><path d=\"M17.41 7.96l-1.37-1.37c-.4-.4-.92-.59-1.43-.59-.52 0-1.04.2-1.43.59L10.3 9.45l-7.72 7.72c-.78.78-.78 2.05 0 2.83L4 21.41c.39.39.9.59 1.41.59.51 0 1.02-.2 1.41-.59l7.78-7.78 2.81-2.81c.8-.78.8-2.07 0-2.86zM5.41 20L4 18.59l7.72-7.72 1.47 1.35L5.41 20z\"/>\n",
              "  </svg>\n",
              "      </button>\n",
              "      \n",
              "  <style>\n",
              "    .colab-df-container {\n",
              "      display:flex;\n",
              "      flex-wrap:wrap;\n",
              "      gap: 12px;\n",
              "    }\n",
              "\n",
              "    .colab-df-convert {\n",
              "      background-color: #E8F0FE;\n",
              "      border: none;\n",
              "      border-radius: 50%;\n",
              "      cursor: pointer;\n",
              "      display: none;\n",
              "      fill: #1967D2;\n",
              "      height: 32px;\n",
              "      padding: 0 0 0 0;\n",
              "      width: 32px;\n",
              "    }\n",
              "\n",
              "    .colab-df-convert:hover {\n",
              "      background-color: #E2EBFA;\n",
              "      box-shadow: 0px 1px 2px rgba(60, 64, 67, 0.3), 0px 1px 3px 1px rgba(60, 64, 67, 0.15);\n",
              "      fill: #174EA6;\n",
              "    }\n",
              "\n",
              "    [theme=dark] .colab-df-convert {\n",
              "      background-color: #3B4455;\n",
              "      fill: #D2E3FC;\n",
              "    }\n",
              "\n",
              "    [theme=dark] .colab-df-convert:hover {\n",
              "      background-color: #434B5C;\n",
              "      box-shadow: 0px 1px 3px 1px rgba(0, 0, 0, 0.15);\n",
              "      filter: drop-shadow(0px 1px 2px rgba(0, 0, 0, 0.3));\n",
              "      fill: #FFFFFF;\n",
              "    }\n",
              "  </style>\n",
              "\n",
              "      <script>\n",
              "        const buttonEl =\n",
              "          document.querySelector('#df-f88673ba-a061-4de2-bae1-65468323cbbc button.colab-df-convert');\n",
              "        buttonEl.style.display =\n",
              "          google.colab.kernel.accessAllowed ? 'block' : 'none';\n",
              "\n",
              "        async function convertToInteractive(key) {\n",
              "          const element = document.querySelector('#df-f88673ba-a061-4de2-bae1-65468323cbbc');\n",
              "          const dataTable =\n",
              "            await google.colab.kernel.invokeFunction('convertToInteractive',\n",
              "                                                     [key], {});\n",
              "          if (!dataTable) return;\n",
              "\n",
              "          const docLinkHtml = 'Like what you see? Visit the ' +\n",
              "            '<a target=\"_blank\" href=https://colab.research.google.com/notebooks/data_table.ipynb>data table notebook</a>'\n",
              "            + ' to learn more about interactive tables.';\n",
              "          element.innerHTML = '';\n",
              "          dataTable['output_type'] = 'display_data';\n",
              "          await google.colab.output.renderOutput(dataTable, element);\n",
              "          const docLink = document.createElement('div');\n",
              "          docLink.innerHTML = docLinkHtml;\n",
              "          element.appendChild(docLink);\n",
              "        }\n",
              "      </script>\n",
              "    </div>\n",
              "  </div>\n",
              "  "
            ]
          },
          "metadata": {},
          "execution_count": 50
        }
      ]
    },
    {
      "cell_type": "code",
      "source": [
        "df.linked_cases.unique()"
      ],
      "metadata": {
        "colab": {
          "base_uri": "https://localhost:8080/"
        },
        "id": "9E8SmU23NTvf",
        "outputId": "88745fc6-e4c3-499b-9153-97a0cc29c293"
      },
      "execution_count": null,
      "outputs": [
        {
          "output_type": "execute_result",
          "data": {
            "text/plain": [
              "array([False,  True])"
            ]
          },
          "metadata": {},
          "execution_count": 51
        }
      ]
    },
    {
      "cell_type": "code",
      "source": [
        "df.cause.unique()"
      ],
      "metadata": {
        "colab": {
          "base_uri": "https://localhost:8080/"
        },
        "id": "bm6YvrkBNTpC",
        "outputId": "feb4779e-4530-4e30-dfed-f38e7d3e765f"
      },
      "execution_count": null,
      "outputs": [
        {
          "output_type": "execute_result",
          "data": {
            "text/plain": [
              "array(['unknown', 'vegetables', 'meat'], dtype=object)"
            ]
          },
          "metadata": {},
          "execution_count": 52
        }
      ]
    },
    {
      "cell_type": "code",
      "source": [
        "df.location.unique()"
      ],
      "metadata": {
        "colab": {
          "base_uri": "https://localhost:8080/"
        },
        "id": "Zpwb3IEVORsv",
        "outputId": "fcb677e1-9c19-4131-fb43-ff5137a3af87"
      },
      "execution_count": null,
      "outputs": [
        {
          "output_type": "execute_result",
          "data": {
            "text/plain": [
              "array(['RECIFE', 'SAO LUIS', 'FORTALEZA', 'NATAL'], dtype=object)"
            ]
          },
          "metadata": {},
          "execution_count": 53
        }
      ]
    },
    {
      "cell_type": "code",
      "source": [
        "# Check for empty data\n",
        "df.isnull().sum()"
      ],
      "metadata": {
        "colab": {
          "base_uri": "https://localhost:8080/"
        },
        "id": "F7Q39NGkKeuq",
        "outputId": "3fa9e296-b4a8-46ff-8a2d-9b7d252f750c"
      },
      "execution_count": null,
      "outputs": [
        {
          "output_type": "execute_result",
          "data": {
            "text/plain": [
              "claim_id                0\n",
              "time_to_close           0\n",
              "claim_amount            0\n",
              "amount_paid             0\n",
              "location                0\n",
              "individuals_on_claim    0\n",
              "linked_cases            0\n",
              "cause                   0\n",
              "time_to_cloae           0\n",
              "dtype: int64"
            ]
          },
          "metadata": {},
          "execution_count": 54
        }
      ]
    },
    {
      "cell_type": "code",
      "source": [
        "# Check whether there are duplicates\n",
        "df.duplicated().sum()"
      ],
      "metadata": {
        "colab": {
          "base_uri": "https://localhost:8080/"
        },
        "id": "fpvQT0dVKeyQ",
        "outputId": "10fc14fb-b43e-4ad3-c2d6-92ebbc3d8980"
      },
      "execution_count": null,
      "outputs": [
        {
          "output_type": "execute_result",
          "data": {
            "text/plain": [
              "0"
            ]
          },
          "metadata": {},
          "execution_count": 55
        }
      ]
    },
    {
      "cell_type": "code",
      "source": [
        "df.info()"
      ],
      "metadata": {
        "colab": {
          "base_uri": "https://localhost:8080/"
        },
        "id": "XuyQfNXGKe1q",
        "outputId": "4c6f572b-627b-440c-b973-4fb81b5f2715"
      },
      "execution_count": null,
      "outputs": [
        {
          "output_type": "stream",
          "name": "stdout",
          "text": [
            "<class 'pandas.core.frame.DataFrame'>\n",
            "RangeIndex: 98 entries, 0 to 97\n",
            "Data columns (total 9 columns):\n",
            " #   Column                Non-Null Count  Dtype  \n",
            "---  ------                --------------  -----  \n",
            " 0   claim_id              98 non-null     object \n",
            " 1   time_to_close         98 non-null     int64  \n",
            " 2   claim_amount          98 non-null     float64\n",
            " 3   amount_paid           98 non-null     float64\n",
            " 4   location              98 non-null     object \n",
            " 5   individuals_on_claim  98 non-null     int64  \n",
            " 6   linked_cases          98 non-null     bool   \n",
            " 7   cause                 98 non-null     object \n",
            " 8   time_to_cloae         98 non-null     int64  \n",
            "dtypes: bool(1), float64(2), int64(3), object(3)\n",
            "memory usage: 6.3+ KB\n"
          ]
        }
      ]
    },
    {
      "cell_type": "code",
      "source": [
        "# What is the shape of the DataFrame\n",
        "df.shape"
      ],
      "metadata": {
        "colab": {
          "base_uri": "https://localhost:8080/"
        },
        "id": "XyreqtGjUEmF",
        "outputId": "5fb8c6d7-3b2d-48ba-cfaf-5ebfccd3c1e9"
      },
      "execution_count": null,
      "outputs": [
        {
          "output_type": "execute_result",
          "data": {
            "text/plain": [
              "(98, 9)"
            ]
          },
          "metadata": {},
          "execution_count": 57
        }
      ]
    },
    {
      "cell_type": "code",
      "source": [
        "# Calculate summary statistics of the DataFrame\n",
        "df.describe(include='all')"
      ],
      "metadata": {
        "colab": {
          "base_uri": "https://localhost:8080/",
          "height": 394
        },
        "id": "cfrZHw3cKe8E",
        "outputId": "cb673a03-9f89-4e40-bd73-ed0f42a69b88"
      },
      "execution_count": null,
      "outputs": [
        {
          "output_type": "execute_result",
          "data": {
            "text/plain": [
              "                         claim_id  time_to_close   claim_amount  \\\n",
              "count                          98      98.000000      98.000000   \n",
              "unique                         98            NaN            NaN   \n",
              "top     0000000-00.2010.0.00.0094            NaN            NaN   \n",
              "freq                            1            NaN            NaN   \n",
              "mean                          NaN     833.510204  122952.030612   \n",
              "std                           NaN     685.424441  166433.389040   \n",
              "min                           NaN      29.000000    3555.000000   \n",
              "25%                           NaN     340.750000   40000.000000   \n",
              "50%                           NaN     638.500000   58454.500000   \n",
              "75%                           NaN    1138.750000  136573.250000   \n",
              "max                           NaN    3591.000000  936540.000000   \n",
              "\n",
              "          amount_paid  location  individuals_on_claim linked_cases    cause  \\\n",
              "count       98.000000        98             98.000000           98       98   \n",
              "unique            NaN         4                   NaN            2        3   \n",
              "top               NaN  SAO LUIS                   NaN        False  unknown   \n",
              "freq              NaN        30                   NaN           89       78   \n",
              "mean     58448.238571       NaN              4.908163          NaN      NaN   \n",
              "std      87525.873849       NaN              7.292259          NaN      NaN   \n",
              "min        999.680000       NaN              0.000000          NaN      NaN   \n",
              "25%      15965.642500       NaN              1.000000          NaN      NaN   \n",
              "50%      29451.040000       NaN              2.000000          NaN      NaN   \n",
              "75%      52114.760000       NaN              5.750000          NaN      NaN   \n",
              "max     558725.770000       NaN             41.000000          NaN      NaN   \n",
              "\n",
              "        time_to_cloae  \n",
              "count            98.0  \n",
              "unique            NaN  \n",
              "top               NaN  \n",
              "freq              NaN  \n",
              "mean             57.0  \n",
              "std               0.0  \n",
              "min              57.0  \n",
              "25%              57.0  \n",
              "50%              57.0  \n",
              "75%              57.0  \n",
              "max              57.0  "
            ],
            "text/html": [
              "\n",
              "  <div id=\"df-ba6b140e-b715-484e-83d4-19bc55ead66d\">\n",
              "    <div class=\"colab-df-container\">\n",
              "      <div>\n",
              "<style scoped>\n",
              "    .dataframe tbody tr th:only-of-type {\n",
              "        vertical-align: middle;\n",
              "    }\n",
              "\n",
              "    .dataframe tbody tr th {\n",
              "        vertical-align: top;\n",
              "    }\n",
              "\n",
              "    .dataframe thead th {\n",
              "        text-align: right;\n",
              "    }\n",
              "</style>\n",
              "<table border=\"1\" class=\"dataframe\">\n",
              "  <thead>\n",
              "    <tr style=\"text-align: right;\">\n",
              "      <th></th>\n",
              "      <th>claim_id</th>\n",
              "      <th>time_to_close</th>\n",
              "      <th>claim_amount</th>\n",
              "      <th>amount_paid</th>\n",
              "      <th>location</th>\n",
              "      <th>individuals_on_claim</th>\n",
              "      <th>linked_cases</th>\n",
              "      <th>cause</th>\n",
              "      <th>time_to_cloae</th>\n",
              "    </tr>\n",
              "  </thead>\n",
              "  <tbody>\n",
              "    <tr>\n",
              "      <th>count</th>\n",
              "      <td>98</td>\n",
              "      <td>98.000000</td>\n",
              "      <td>98.000000</td>\n",
              "      <td>98.000000</td>\n",
              "      <td>98</td>\n",
              "      <td>98.000000</td>\n",
              "      <td>98</td>\n",
              "      <td>98</td>\n",
              "      <td>98.0</td>\n",
              "    </tr>\n",
              "    <tr>\n",
              "      <th>unique</th>\n",
              "      <td>98</td>\n",
              "      <td>NaN</td>\n",
              "      <td>NaN</td>\n",
              "      <td>NaN</td>\n",
              "      <td>4</td>\n",
              "      <td>NaN</td>\n",
              "      <td>2</td>\n",
              "      <td>3</td>\n",
              "      <td>NaN</td>\n",
              "    </tr>\n",
              "    <tr>\n",
              "      <th>top</th>\n",
              "      <td>0000000-00.2010.0.00.0094</td>\n",
              "      <td>NaN</td>\n",
              "      <td>NaN</td>\n",
              "      <td>NaN</td>\n",
              "      <td>SAO LUIS</td>\n",
              "      <td>NaN</td>\n",
              "      <td>False</td>\n",
              "      <td>unknown</td>\n",
              "      <td>NaN</td>\n",
              "    </tr>\n",
              "    <tr>\n",
              "      <th>freq</th>\n",
              "      <td>1</td>\n",
              "      <td>NaN</td>\n",
              "      <td>NaN</td>\n",
              "      <td>NaN</td>\n",
              "      <td>30</td>\n",
              "      <td>NaN</td>\n",
              "      <td>89</td>\n",
              "      <td>78</td>\n",
              "      <td>NaN</td>\n",
              "    </tr>\n",
              "    <tr>\n",
              "      <th>mean</th>\n",
              "      <td>NaN</td>\n",
              "      <td>833.510204</td>\n",
              "      <td>122952.030612</td>\n",
              "      <td>58448.238571</td>\n",
              "      <td>NaN</td>\n",
              "      <td>4.908163</td>\n",
              "      <td>NaN</td>\n",
              "      <td>NaN</td>\n",
              "      <td>57.0</td>\n",
              "    </tr>\n",
              "    <tr>\n",
              "      <th>std</th>\n",
              "      <td>NaN</td>\n",
              "      <td>685.424441</td>\n",
              "      <td>166433.389040</td>\n",
              "      <td>87525.873849</td>\n",
              "      <td>NaN</td>\n",
              "      <td>7.292259</td>\n",
              "      <td>NaN</td>\n",
              "      <td>NaN</td>\n",
              "      <td>0.0</td>\n",
              "    </tr>\n",
              "    <tr>\n",
              "      <th>min</th>\n",
              "      <td>NaN</td>\n",
              "      <td>29.000000</td>\n",
              "      <td>3555.000000</td>\n",
              "      <td>999.680000</td>\n",
              "      <td>NaN</td>\n",
              "      <td>0.000000</td>\n",
              "      <td>NaN</td>\n",
              "      <td>NaN</td>\n",
              "      <td>57.0</td>\n",
              "    </tr>\n",
              "    <tr>\n",
              "      <th>25%</th>\n",
              "      <td>NaN</td>\n",
              "      <td>340.750000</td>\n",
              "      <td>40000.000000</td>\n",
              "      <td>15965.642500</td>\n",
              "      <td>NaN</td>\n",
              "      <td>1.000000</td>\n",
              "      <td>NaN</td>\n",
              "      <td>NaN</td>\n",
              "      <td>57.0</td>\n",
              "    </tr>\n",
              "    <tr>\n",
              "      <th>50%</th>\n",
              "      <td>NaN</td>\n",
              "      <td>638.500000</td>\n",
              "      <td>58454.500000</td>\n",
              "      <td>29451.040000</td>\n",
              "      <td>NaN</td>\n",
              "      <td>2.000000</td>\n",
              "      <td>NaN</td>\n",
              "      <td>NaN</td>\n",
              "      <td>57.0</td>\n",
              "    </tr>\n",
              "    <tr>\n",
              "      <th>75%</th>\n",
              "      <td>NaN</td>\n",
              "      <td>1138.750000</td>\n",
              "      <td>136573.250000</td>\n",
              "      <td>52114.760000</td>\n",
              "      <td>NaN</td>\n",
              "      <td>5.750000</td>\n",
              "      <td>NaN</td>\n",
              "      <td>NaN</td>\n",
              "      <td>57.0</td>\n",
              "    </tr>\n",
              "    <tr>\n",
              "      <th>max</th>\n",
              "      <td>NaN</td>\n",
              "      <td>3591.000000</td>\n",
              "      <td>936540.000000</td>\n",
              "      <td>558725.770000</td>\n",
              "      <td>NaN</td>\n",
              "      <td>41.000000</td>\n",
              "      <td>NaN</td>\n",
              "      <td>NaN</td>\n",
              "      <td>57.0</td>\n",
              "    </tr>\n",
              "  </tbody>\n",
              "</table>\n",
              "</div>\n",
              "      <button class=\"colab-df-convert\" onclick=\"convertToInteractive('df-ba6b140e-b715-484e-83d4-19bc55ead66d')\"\n",
              "              title=\"Convert this dataframe to an interactive table.\"\n",
              "              style=\"display:none;\">\n",
              "        \n",
              "  <svg xmlns=\"http://www.w3.org/2000/svg\" height=\"24px\"viewBox=\"0 0 24 24\"\n",
              "       width=\"24px\">\n",
              "    <path d=\"M0 0h24v24H0V0z\" fill=\"none\"/>\n",
              "    <path d=\"M18.56 5.44l.94 2.06.94-2.06 2.06-.94-2.06-.94-.94-2.06-.94 2.06-2.06.94zm-11 1L8.5 8.5l.94-2.06 2.06-.94-2.06-.94L8.5 2.5l-.94 2.06-2.06.94zm10 10l.94 2.06.94-2.06 2.06-.94-2.06-.94-.94-2.06-.94 2.06-2.06.94z\"/><path d=\"M17.41 7.96l-1.37-1.37c-.4-.4-.92-.59-1.43-.59-.52 0-1.04.2-1.43.59L10.3 9.45l-7.72 7.72c-.78.78-.78 2.05 0 2.83L4 21.41c.39.39.9.59 1.41.59.51 0 1.02-.2 1.41-.59l7.78-7.78 2.81-2.81c.8-.78.8-2.07 0-2.86zM5.41 20L4 18.59l7.72-7.72 1.47 1.35L5.41 20z\"/>\n",
              "  </svg>\n",
              "      </button>\n",
              "      \n",
              "  <style>\n",
              "    .colab-df-container {\n",
              "      display:flex;\n",
              "      flex-wrap:wrap;\n",
              "      gap: 12px;\n",
              "    }\n",
              "\n",
              "    .colab-df-convert {\n",
              "      background-color: #E8F0FE;\n",
              "      border: none;\n",
              "      border-radius: 50%;\n",
              "      cursor: pointer;\n",
              "      display: none;\n",
              "      fill: #1967D2;\n",
              "      height: 32px;\n",
              "      padding: 0 0 0 0;\n",
              "      width: 32px;\n",
              "    }\n",
              "\n",
              "    .colab-df-convert:hover {\n",
              "      background-color: #E2EBFA;\n",
              "      box-shadow: 0px 1px 2px rgba(60, 64, 67, 0.3), 0px 1px 3px 1px rgba(60, 64, 67, 0.15);\n",
              "      fill: #174EA6;\n",
              "    }\n",
              "\n",
              "    [theme=dark] .colab-df-convert {\n",
              "      background-color: #3B4455;\n",
              "      fill: #D2E3FC;\n",
              "    }\n",
              "\n",
              "    [theme=dark] .colab-df-convert:hover {\n",
              "      background-color: #434B5C;\n",
              "      box-shadow: 0px 1px 3px 1px rgba(0, 0, 0, 0.15);\n",
              "      filter: drop-shadow(0px 1px 2px rgba(0, 0, 0, 0.3));\n",
              "      fill: #FFFFFF;\n",
              "    }\n",
              "  </style>\n",
              "\n",
              "      <script>\n",
              "        const buttonEl =\n",
              "          document.querySelector('#df-ba6b140e-b715-484e-83d4-19bc55ead66d button.colab-df-convert');\n",
              "        buttonEl.style.display =\n",
              "          google.colab.kernel.accessAllowed ? 'block' : 'none';\n",
              "\n",
              "        async function convertToInteractive(key) {\n",
              "          const element = document.querySelector('#df-ba6b140e-b715-484e-83d4-19bc55ead66d');\n",
              "          const dataTable =\n",
              "            await google.colab.kernel.invokeFunction('convertToInteractive',\n",
              "                                                     [key], {});\n",
              "          if (!dataTable) return;\n",
              "\n",
              "          const docLinkHtml = 'Like what you see? Visit the ' +\n",
              "            '<a target=\"_blank\" href=https://colab.research.google.com/notebooks/data_table.ipynb>data table notebook</a>'\n",
              "            + ' to learn more about interactive tables.';\n",
              "          element.innerHTML = '';\n",
              "          dataTable['output_type'] = 'display_data';\n",
              "          await google.colab.output.renderOutput(dataTable, element);\n",
              "          const docLink = document.createElement('div');\n",
              "          docLink.innerHTML = docLinkHtml;\n",
              "          element.appendChild(docLink);\n",
              "        }\n",
              "      </script>\n",
              "    </div>\n",
              "  </div>\n",
              "  "
            ]
          },
          "metadata": {},
          "execution_count": 58
        }
      ]
    },
    {
      "cell_type": "markdown",
      "source": [
        "### Summary of Data Validation\n",
        "\n",
        "\n",
        "\n",
        "\n",
        "1. The Claim Amount column was converted to numeric data type which was initially stored in character data type. This was done by stripping ('$' and ',') signs from the columns then converting numeric as required by the criteria. Additionally, there were null values in the Cause column, those values were replaced with 'unknown'. All other columns were recorded correctly as per criteria. Also the values in row with index 58 of the time to close column was corrected because it was recorded wrongly as days cannot be negative. This was done by changing the values to positive.\n",
        "2. The locations are 'RECIFE', 'SAO LUIS', 'FORTALEZA', and 'NATAL'. The three causes of the poisoning are 'unknown', 'vegetables', and 'meat'. A case is either linked or not (True or False).\n",
        "3.  No duplicates were found, no null values and also the data set have 98 rows and 8 columns. There are 98 rows and 8 columns\n",
        "\n",
        "\n",
        "\n",
        "\n",
        "\n",
        "\n",
        "\n"
      ],
      "metadata": {
        "id": "wxVwJNzYP1xe"
      }
    },
    {
      "cell_type": "markdown",
      "source": [
        "## Exploratory Analysis"
      ],
      "metadata": {
        "id": "TNJIEziBP1rv"
      }
    },
    {
      "cell_type": "markdown",
      "source": [
        "### 1. How does the number of claims differ across locations?"
      ],
      "metadata": {
        "id": "bImr9W5NcM9u"
      }
    },
    {
      "cell_type": "code",
      "source": [
        "# How does the number of claims differs across each location\n",
        "claim_count = df.groupby('location')['individuals_on_claim'].sum()\n",
        "a = [14, 35, 22, 29]\n",
        "b = ['FORTALEZA = 69', 'NATAL = 168', 'RECIFE = 106', 'SAO LUIS = 138']\n",
        "# Create a pieplot\n",
        "\n",
        "# Label distance: gives the space between labels and the center of the pie\n",
        "fig, ax = plt.subplots(figsize=(8, 6))\n",
        "ax.pie(a, labels=b, autopct='%.1f%%', labeldistance=1.15, wedgeprops = { 'linewidth' : 3, 'edgecolor' : 'white' })\n",
        "ax.set_title('Percentage Of Individusl Claims')\n",
        "plt.tight_layout()\n",
        "plt.show();\n"
      ],
      "metadata": {
        "id": "LLUFN2NomSCx",
        "colab": {
          "base_uri": "https://localhost:8080/",
          "height": 441
        },
        "outputId": "a3029d08-38cc-427a-e97d-dc4b08ff5214"
      },
      "execution_count": null,
      "outputs": [
        {
          "output_type": "display_data",
          "data": {
            "text/plain": [
              "<Figure size 576x432 with 1 Axes>"
            ],
            "image/png": "[encoded data removed]"
          },
          "metadata": {}
        }
      ]
    },
    {
      "cell_type": "markdown",
      "source": [
        "There are total of 481 cases across 4 locations ('RECIFE', 'SAO LUIS', 'FORTALEZA', and 'NATAL). Out of the 481 cases filed, NATAL is the location with the most, with 168 cases filed approximately 35 percent of the total cases. SAO LUIS came second with 138 cases, approximately 29 percent of the total cases, followed by RECIFE, which has 106 cases, approximately 22 percent of the total cases and then lastly the location with less cases filed FORTALEZA with 69 cases which is approximately 14 percent of the total cases filed"
      ],
      "metadata": {
        "id": "m7ThIcDEcn9i"
      }
    },
    {
      "cell_type": "markdown",
      "source": [
        "## What is the distribution of time to close claims?"
      ],
      "metadata": {
        "id": "wq30MUdmA61L"
      }
    },
    {
      "cell_type": "code",
      "source": [
        "# Distribution of time to close claims\n",
        "df['time_to_close'].hist()\n",
        "plt.xlabel('Time to close')\n",
        "plt.show()"
      ],
      "metadata": {
        "colab": {
          "base_uri": "https://localhost:8080/",
          "height": 279
        },
        "id": "cmy9tlk7y_1N",
        "outputId": "9da63c15-b49c-455b-b689-ce12f22c6c37"
      },
      "execution_count": null,
      "outputs": [
        {
          "output_type": "display_data",
          "data": {
            "text/plain": [
              "<Figure size 432x288 with 1 Axes>"
            ],
            "image/png": "[encoded data removed]"
          },
          "metadata": {
            "needs_background": "light"
          }
        }
      ]
    },
    {
      "cell_type": "code",
      "source": [
        "plt.figure(figsize=(12,8))\n",
        "sns.displot(x='time_to_close', data=df, hue='location')\n",
        "plt.show()"
      ],
      "metadata": {
        "id": "VW5GnRTE97RN",
        "colab": {
          "base_uri": "https://localhost:8080/",
          "height": 386
        },
        "outputId": "c5a80e21-61dd-4a6e-dfda-9886e9c8d155"
      },
      "execution_count": null,
      "outputs": [
        {
          "output_type": "display_data",
          "data": {
            "text/plain": [
              "<Figure size 864x576 with 0 Axes>"
            ]
          },
          "metadata": {}
        },
        {
          "output_type": "display_data",
          "data": {
            "text/plain": [
              "<Figure size 453.25x360 with 1 Axes>"
            ],
            "image/png": "[encoded data removed]"
          },
          "metadata": {
            "needs_background": "light"
          }
        }
      ]
    },
    {
      "cell_type": "markdown",
      "source": [
        "The time to close cases ranges from 29 days to 3591 days. It took mostly between 0 to 500 daysto close a claim. SAO LUIS is the location with the heighest distribution of time to close a claim"
      ],
      "metadata": {
        "id": "OaPVGQPqPQcq"
      }
    },
    {
      "cell_type": "markdown",
      "source": [
        "### Let's see the distribution of the 3 causes of poison"
      ],
      "metadata": {
        "id": "5o01f4BaQqWq"
      }
    },
    {
      "cell_type": "code",
      "source": [
        "plt.title('Count of poison cause')\n",
        "sns.countplot(x='cause', data=df)\n",
        "print(df['cause'].value_counts())"
      ],
      "metadata": {
        "colab": {
          "base_uri": "https://localhost:8080/",
          "height": 364
        },
        "id": "0-6EUqG7IL9O",
        "outputId": "887eeecd-6431-4240-f644-9ef48b4096c0"
      },
      "execution_count": null,
      "outputs": [
        {
          "output_type": "stream",
          "name": "stdout",
          "text": [
            "unknown       78\n",
            "meat          12\n",
            "vegetables     8\n",
            "Name: cause, dtype: int64\n"
          ]
        },
        {
          "output_type": "display_data",
          "data": {
            "text/plain": [
              "<Figure size 432x288 with 1 Axes>"
            ],
            "image/png": "[encoded data removed]"
          },
          "metadata": {
            "needs_background": "light"
          }
        }
      ]
    },
    {
      "cell_type": "markdown",
      "source": [
        "Clearly from above, the plot shows most causes of food poisoning are unknown. It would be best adviced to deploy the legal team to investigate further to know the mysterios cause of the poisoning."
      ],
      "metadata": {
        "id": "UkJpS1cJLM2k"
      }
    },
    {
      "cell_type": "markdown",
      "source": [
        "## Distribution of number of days it takes to close claims across the four locations"
      ],
      "metadata": {
        "id": "bWyPjFkxRL-p"
      }
    },
    {
      "cell_type": "code",
      "source": [
        "sns.boxplot(x=\"location\", y='time_to_close', data = df, order = sorted(df[\"location\"].unique()))"
      ],
      "metadata": {
        "colab": {
          "base_uri": "https://localhost:8080/",
          "height": 296
        },
        "id": "dJPn54M9J_Km",
        "outputId": "4a7cba95-0513-4aa7-ea73-6c50d5092745"
      },
      "execution_count": null,
      "outputs": [
        {
          "output_type": "execute_result",
          "data": {
            "text/plain": [
              "<matplotlib.axes._subplots.AxesSubplot at 0x7f84222920a0>"
            ]
          },
          "metadata": {},
          "execution_count": 63
        },
        {
          "output_type": "display_data",
          "data": {
            "text/plain": [
              "<Figure size 432x288 with 1 Axes>"
            ],
            "image/png": "[encoded data removed]"
          },
          "metadata": {
            "needs_background": "light"
          }
        }
      ]
    },
    {
      "cell_type": "code",
      "source": [
        "# dist_loc = sns.FacetGrid(df, col='location')\n",
        "# dist_loc.map_dataframe(sns.histplot, x='time_to_close')"
      ],
      "metadata": {
        "id": "n2os6ptdJ_OD"
      },
      "execution_count": null,
      "outputs": []
    },
    {
      "cell_type": "markdown",
      "source": [
        "More effort is needed to be put in SAO LUIS because the performance there is very poor when it comes to the closing of cases filed. Then RECIFE should be looked afterwards because of the distribution of the days taken there is also high. FORTALEZA performed significantly better than the two previous locations when it comes to case closure. NATAL has the best record in terms of handling cases"
      ],
      "metadata": {
        "id": "qR6nEg93MLtc"
      }
    },
    {
      "cell_type": "markdown",
      "source": [
        "## How does the average time to close claims differ by location?"
      ],
      "metadata": {
        "id": "EK0Lw6ZHH7F-"
      }
    },
    {
      "cell_type": "markdown",
      "source": [
        "#### Let's see which location has the most number of poison claim due to unknown cause"
      ],
      "metadata": {
        "id": "fPJcFTO0UUTP"
      }
    },
    {
      "cell_type": "code",
      "source": [
        "a = df.query('cause == \"unknown\"')\n",
        "b = a.groupby('location')['individuals_on_claim'].sum()\n",
        "print(b)\n",
        "c = sns.barplot(x = sorted(df[\"location\"].unique()), y = df.groupby('location')['individuals_on_claim'].agg(np.sum))"
      ],
      "metadata": {
        "id": "96JZvb3zJ_gz",
        "colab": {
          "base_uri": "https://localhost:8080/",
          "height": 369
        },
        "outputId": "b4dbb58e-0be2-4335-a32b-634279f2e81d"
      },
      "execution_count": null,
      "outputs": [
        {
          "output_type": "stream",
          "name": "stdout",
          "text": [
            "location\n",
            "FORTALEZA     56\n",
            "NATAL        125\n",
            "RECIFE        57\n",
            "SAO LUIS      75\n",
            "Name: individuals_on_claim, dtype: int64\n"
          ]
        },
        {
          "output_type": "display_data",
          "data": {
            "text/plain": [
              "<Figure size 432x288 with 1 Axes>"
            ],
            "image/png": "[encoded data removed]"
          },
          "metadata": {
            "needs_background": "light"
          }
        }
      ]
    },
    {
      "cell_type": "markdown",
      "source": [
        "NATAL has the most claims with unknown cause. More effort should be put to discover what precisely is the main poison cause."
      ],
      "metadata": {
        "id": "XZoapauOLFfi"
      }
    },
    {
      "cell_type": "code",
      "source": [
        "a = df.groupby('location')['time_to_close'].agg(np.mean)\n",
        "plt.title('Average Time(day) to Close Claims from each Location')\n",
        "chart = sns.barplot(x = sorted(df[\"location\"].unique()), y = df.groupby('location')['time_to_close'].agg(np.mean))\n",
        "for p in chart.patches:\n",
        "  chart.annotate(format(p.get_height(), '.2f'), (p.get_x() + p.get_width() / 2.,\n",
        "                                             p.get_height()), ha = 'center', va = 'center', xytext = (0, 5), textcoords = 'offset points')\n",
        "plt.show()"
      ],
      "metadata": {
        "colab": {
          "base_uri": "https://localhost:8080/",
          "height": 281
        },
        "id": "oewWjRfZJ_F-",
        "outputId": "42c843d3-403d-4d60-9a1f-4f7c80033ab6"
      },
      "execution_count": null,
      "outputs": [
        {
          "output_type": "display_data",
          "data": {
            "text/plain": [
              "<Figure size 432x288 with 1 Axes>"
            ],
            "image/png": "[encoded data removed]"
          },
          "metadata": {
            "needs_background": "light"
          }
        }
      ]
    },
    {
      "cell_type": "markdown",
      "source": [
        "Seeing the above graph, one will wonder how the resturant in NATAL with the most number of claims filed were able to perform best when it comes to handling claim closure. This shows how efficient the legal team there are when it comes to handling cases. FORTALEZA came next even though they had the less number of claims, the performance there could be considered average. More efforts are required in te other two locations (RECIFE and SAO LUIS) especially SAO LUIS which's second in terms of number of claims filed and worse when it comes to closing claims."
      ],
      "metadata": {
        "id": "qpw1XiArPEC2"
      }
    },
    {
      "cell_type": "markdown",
      "source": [
        "### Let's see how time to close case is correlated with the amount claimed"
      ],
      "metadata": {
        "id": "sPxW2VwzII6e"
      }
    },
    {
      "cell_type": "code",
      "source": [
        "plt.figure(figsize=[12,8])\n",
        "sns.scatterplot(data=df, x=\"time_to_close\", y=\"claim_amount\")\n",
        "plt.xlabel(\"Time to Close\")\n",
        "plt.ylabel(\"Claim Amount\")\n",
        "plt.title('Correlation Between Claim Amount and Time to Close claim')\n",
        "plt.show()"
      ],
      "metadata": {
        "colab": {
          "base_uri": "https://localhost:8080/",
          "height": 513
        },
        "id": "l3zQegSXJ_ZI",
        "outputId": "4782646d-3675-457c-f84f-036e99f14876"
      },
      "execution_count": null,
      "outputs": [
        {
          "output_type": "display_data",
          "data": {
            "text/plain": [
              "<Figure size 864x576 with 1 Axes>"
            ],
            "image/png": "[encoded data removed]"
          },
          "metadata": {
            "needs_background": "light"
          }
        }
      ]
    },
    {
      "cell_type": "code",
      "source": [
        "plt.figure(figsize=[14,8])\n",
        "plt.title('Correlation for all the columns')\n",
        "sns.heatmap(df.corr(), annot=True)\n",
        "plt.show()"
      ],
      "metadata": {
        "colab": {
          "base_uri": "https://localhost:8080/",
          "height": 500
        },
        "id": "sYd3G0dkJ_UD",
        "outputId": "69617933-6f85-4176-9676-dc13cd4ff426"
      },
      "execution_count": null,
      "outputs": [
        {
          "output_type": "display_data",
          "data": {
            "text/plain": [
              "<Figure size 1008x576 with 2 Axes>"
            ],
            "image/png": "[encoded data removed]"
          },
          "metadata": {
            "needs_background": "light"
          }
        }
      ]
    },
    {
      "cell_type": "markdown",
      "source": [
        "## Summary\n",
        "<br>\n",
        "<br>\n",
        "<br>\n",
        "<br>\n",
        "<br>\n",
        "\n",
        "1.   Data Validation\n",
        "For convinience, I decided to turn all column names to small letters and also replace spaces with underscore. The Claim Amount column was stored as string and also has some characters ($ and ,) stored in it, which were removed before turning it into numeric data type as required. The null rows in cause columns were replaced with 'unknown' and I went further to explore the dataset, discovering row 58 which has number of days stored in negative.\n",
        "2.   Exploratory Data Analysis\n",
        "3.   \n",
        "4.   \n",
        "5.   The legal team in SAO LUIS should double their effort in tackling claim cases, because the record there is not very good.\n",
        "\n",
        "\n"
      ],
      "metadata": {
        "id": "jsfAtngVo4WL"
      }
    }
  ]
}